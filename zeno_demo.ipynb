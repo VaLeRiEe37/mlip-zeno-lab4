{
  "cells": [
    {
      "cell_type": "markdown",
      "metadata": {
        "id": "XHtaPysVSNZN"
      },
      "source": [
        "# Step 1 - Install the required dependencies and make sure the python version is 3.10 and above"
      ]
    },
    {
      "cell_type": "code",
      "execution_count": 6,
      "metadata": {
        "id": "APS6D3eiSAR_"
      },
      "outputs": [],
      "source": [
        "!pip3 install zeno-client\n",
        "!pip3 install --upgrade pip\n",
        "!pip3 install --upgrade bottleneck\n",
        "!pip3 install langdetect"
      ]
    },
    {
      "cell_type": "code",
      "execution_count": 9,
      "metadata": {
        "colab": {
          "base_uri": "https://localhost:8080/"
        },
        "id": "CRrMiMnLV9xY",
        "outputId": "5193e819-f2cb-4032-99df-ced1ea7b4191"
      },
      "outputs": [
        {
          "name": "stdout",
          "output_type": "stream",
          "text": [
            "Python 3.11.4\n"
          ]
        }
      ],
      "source": [
        "!/usr/local/bin/python3.11 --version"
      ]
    },
    {
      "cell_type": "code",
      "execution_count": 21,
      "metadata": {
        "id": "wHMa3ItBSSdu"
      },
      "outputs": [],
      "source": [
        "from zeno_client import ZenoClient, ZenoMetric\n",
        "import pandas as pd\n",
        "import config\n",
        "\n",
        "# Initialize a client with our API key.\n",
        "client = ZenoClient(config.api_key)\n"
      ]
    },
    {
      "cell_type": "markdown",
      "metadata": {
        "id": "bwOPnZ1vSfWt"
      },
      "source": [
        "# Step 2 - Create a project"
      ]
    },
    {
      "cell_type": "code",
      "execution_count": 8,
      "metadata": {
        "id": "9UdBAYUsSXBH"
      },
      "outputs": [
        {
          "name": "stdout",
          "output_type": "stream",
          "text": [
            "Successfully updated project.\n",
            "Access your project at  https://hub.zenoml.com/project/9a150ec1-ef06-4ed3-80fa-ea3ccb391f88/Biased%20Movies%20Analysis\n"
          ]
        }
      ],
      "source": [
        "project = client.create_project(\n",
        "    name=\"Biased Movies Analysis\",\n",
        "    view=\"text-classification\",\n",
        "    metrics=[\n",
        "        ZenoMetric(name=\"accuracy\", type=\"mean\", columns=[\"correct\"]),\n",
        "        #Uncomment the following line after implementing the function\n",
        "        ZenoMetric(name=\"avg length ratio\", type=\"mean\", columns=[\"avg_length_ratio\"]),\n",
        "    ]\n",
        ")"
      ]
    },
    {
      "cell_type": "markdown",
      "metadata": {
        "id": "c-lh1yUhXjsd"
      },
      "source": [
        "# Step 3 - Create dataset"
      ]
    },
    {
      "cell_type": "code",
      "execution_count": 10,
      "metadata": {
        "id": "s4x_f9QqSjHT"
      },
      "outputs": [],
      "source": [
        "import pandas as pd\n",
        "from langdetect import detect\n",
        "from collections import Counter\n",
        "import random\n",
        "\n",
        "# Sample language detection function\n",
        "def detect_language(text):\n",
        "    try:\n",
        "        return detect(text)\n",
        "    except:\n",
        "        return \"Unknown\"\n",
        "\n",
        "# Create a Pandas DataFrame for the biased dataset of movies\n",
        "df = pd.DataFrame(\n",
        "    {\n",
        "        \"id\": range(1, 11),  # Using only 10 instances for demonstration\n",
        "        \"text\": [\n",
        "            \"I love this movie!\",\n",
        "            \"¡Odio esta película!\",\n",
        "            \"Ce film est ok.\",\n",
        "            \"The acting was great!\",\n",
        "            \"The plot was confusing.\",\n",
        "            \"I really enjoyed it!\",\n",
        "            \"Worst movie ever!\",\n",
        "            \"Not bad, but could be better.\",\n",
        "            \"A masterpiece!\",\n",
        "            \"I didn't like it.\",\n",
        "        ],\n",
        "        \"genre\": [\"action\", \"drama\", \"comedy\", \"action\", \"drama\", \"action\", \"drama\", \"comedy\", \"action\", \"drama\"],\n",
        "        \"year\": [random.choice([2020, 2021, 2022]) for _ in range(10)],  # Randomly select year\n",
        "        \"label\": [\"positive\", \"negative\", \"neutral\", \"positive\", \"negative\", \"positive\", \"negative\", \"neutral\", \"positive\", \"negative\"],\n",
        "    }\n",
        ")\n",
        "\n",
        "# Introduce biases in genre\n",
        "biased_genre = [\"action\", \"action\", \"drama\", \"drama\", \"comedy\", \"comedy\", \"comedy\", \"comedy\", \"drama\", \"drama\"]\n",
        "df[\"biased_genre\"] = biased_genre\n",
        "\n",
        "# Introduce biases in year\n",
        "biased_year = [2020, 2020, 2020, 2021, 2021, 2021, 2022, 2022, 2022, 2022]\n",
        "df[\"biased_year\"] = biased_year\n",
        "\n",
        "# Add language detection to create a new column\n",
        "df[\"detected_language\"] = df[\"text\"].apply(detect_language)\n",
        "\n",
        "# Add additional columns for analysis\n",
        "df[\"input_length\"] = df[\"text\"].str.len()\n",
        "\n",
        "#Uncomment the following line\n",
        "# compare the length of each movie review text to the average length of all texts in the dataset\n",
        "df[\"avg_length_ratio\"] = df[\"input_length\"] / df[\"input_length\"].mean()\n",
        "\n"
      ]
    },
    {
      "cell_type": "markdown",
      "metadata": {
        "id": "9MRmyxrQX0-v"
      },
      "source": [
        "# Step 4 - Upload the Base Dataset\n"
      ]
    },
    {
      "cell_type": "code",
      "execution_count": 11,
      "metadata": {
        "id": "gX5H6b9mXxyW"
      },
      "outputs": [
        {
          "data": {
            "application/vnd.jupyter.widget-view+json": {
              "model_id": "b6626176272449ec859ce8be48af1188",
              "version_major": 2,
              "version_minor": 0
            },
            "text/plain": [
              "  0%|          | 0/1 [00:00<?, ?it/s]"
            ]
          },
          "metadata": {},
          "output_type": "display_data"
        },
        {
          "name": "stdout",
          "output_type": "stream",
          "text": [
            "Successfully uploaded data\n"
          ]
        }
      ],
      "source": [
        "\n",
        "project.upload_dataset(df, id_column=\"id\", data_column=\"text\", label_column=\"label\")\n",
        "\n"
      ]
    },
    {
      "cell_type": "markdown",
      "metadata": {
        "id": "22toUe1iX_Se"
      },
      "source": [
        "# Step 5 - Upload the AI System Outputs\n"
      ]
    },
    {
      "cell_type": "code",
      "execution_count": 12,
      "metadata": {
        "id": "Rj6kOAkAXzBN"
      },
      "outputs": [],
      "source": [
        "# For demonstration, let's assume we have system predictions\n",
        "df_system = pd.DataFrame(\n",
        "    {\n",
        "        \"output\": [\"positive\", \"negative\", \"negative\", \"positive\", \"negative\", \"positive\", \"negative\", \"neutral\", \"positive\", \"negative\"],\n",
        "    }\n",
        ")\n",
        "\n",
        "# Create an id column to match the base dataset\n",
        "df_system[\"id\"] = df_system.index + 1\n",
        "\n",
        "# Measure accuracy for each instance, which is averaged by the ZenoMetric above\n",
        "df_system[\"correct\"] = (df_system[\"output\"] == df[\"label\"]).astype(int)\n",
        "\n"
      ]
    },
    {
      "cell_type": "markdown",
      "metadata": {
        "id": "wemoUlruYE2p"
      },
      "source": [
        "# Step 6 - Upload the system outputs\n"
      ]
    },
    {
      "cell_type": "code",
      "execution_count": 13,
      "metadata": {
        "id": "VkYtYnuBYEAR"
      },
      "outputs": [
        {
          "data": {
            "application/vnd.jupyter.widget-view+json": {
              "model_id": "f71daa4abf80418db9fd13e38fe3fc9e",
              "version_major": 2,
              "version_minor": 0
            },
            "text/plain": [
              "  0%|          | 0/1 [00:00<?, ?it/s]"
            ]
          },
          "metadata": {},
          "output_type": "display_data"
        },
        {
          "name": "stdout",
          "output_type": "stream",
          "text": [
            "Successfully uploaded system\n"
          ]
        }
      ],
      "source": [
        "project.upload_system(df_system, name=\"System A\", id_column=\"id\", output_column=\"output\")"
      ]
    },
    {
      "cell_type": "markdown",
      "metadata": {},
      "source": [
        "# Slices the analysis"
      ]
    },
    {
      "cell_type": "markdown",
      "metadata": {},
      "source": [
        "## Genre-based Analysis\n",
        "\n",
        "- Sentiment distribution across different genres.\n",
        "- Average review length ratio by genre to see if some genres have longer or shorter reviews on average."
      ]
    },
    {
      "cell_type": "code",
      "execution_count": 15,
      "metadata": {},
      "outputs": [],
      "source": [
        "# Genre-based Analysis: Sentiment Distribution and Average Length Ratio by Genre\n",
        "genre_analysis = df.groupby('genre').agg({\n",
        "    'label': lambda x: x.value_counts().to_dict(),  # Sentiment distribution\n",
        "    'avg_length_ratio': 'mean'  # Average length ratio\n",
        "}).reset_index()"
      ]
    },
    {
      "cell_type": "code",
      "execution_count": 16,
      "metadata": {},
      "outputs": [
        {
          "data": {
            "text/html": [
              "<div>\n",
              "<style scoped>\n",
              "    .dataframe tbody tr th:only-of-type {\n",
              "        vertical-align: middle;\n",
              "    }\n",
              "\n",
              "    .dataframe tbody tr th {\n",
              "        vertical-align: top;\n",
              "    }\n",
              "\n",
              "    .dataframe thead th {\n",
              "        text-align: right;\n",
              "    }\n",
              "</style>\n",
              "<table border=\"1\" class=\"dataframe\">\n",
              "  <thead>\n",
              "    <tr style=\"text-align: right;\">\n",
              "      <th></th>\n",
              "      <th>genre</th>\n",
              "      <th>label</th>\n",
              "      <th>avg_length_ratio</th>\n",
              "    </tr>\n",
              "  </thead>\n",
              "  <tbody>\n",
              "    <tr>\n",
              "      <th>0</th>\n",
              "      <td>action</td>\n",
              "      <td>{'positive': 4}</td>\n",
              "      <td>0.940722</td>\n",
              "    </tr>\n",
              "    <tr>\n",
              "      <th>1</th>\n",
              "      <td>comedy</td>\n",
              "      <td>{'neutral': 2}</td>\n",
              "      <td>1.134021</td>\n",
              "    </tr>\n",
              "    <tr>\n",
              "      <th>2</th>\n",
              "      <td>drama</td>\n",
              "      <td>{'negative': 4}</td>\n",
              "      <td>0.992268</td>\n",
              "    </tr>\n",
              "  </tbody>\n",
              "</table>\n",
              "</div>"
            ],
            "text/plain": [
              "    genre            label  avg_length_ratio\n",
              "0  action  {'positive': 4}          0.940722\n",
              "1  comedy   {'neutral': 2}          1.134021\n",
              "2   drama  {'negative': 4}          0.992268"
            ]
          },
          "execution_count": 16,
          "metadata": {},
          "output_type": "execute_result"
        }
      ],
      "source": [
        "genre_analysis"
      ]
    },
    {
      "cell_type": "markdown",
      "metadata": {},
      "source": [
        "**Genre-based Insights**\n",
        "\n",
        "- Action Genre: Predominantly positive sentiment with an average length ratio close to the overall average, suggesting reviews are of typical length.\n",
        "- Comedy Genre: Neutral sentiment is prevalent with reviews being slightly longer than average.\n",
        "- Drama Genre: Skewed towards negative sentiment with reviews having an average length ratio around the overall average."
      ]
    },
    {
      "cell_type": "markdown",
      "metadata": {},
      "source": [
        "## Year-based Insights\n",
        "\n",
        "- How sentiment (positive, negative, neutral) varies by year.\n",
        "- Changes in average review length ratio over the years."
      ]
    },
    {
      "cell_type": "code",
      "execution_count": 17,
      "metadata": {},
      "outputs": [],
      "source": [
        "# Year-based Analysis: Sentiment Distribution and Average Length Ratio by Year\n",
        "year_analysis = df.groupby('year').agg({\n",
        "    'label': lambda x: x.value_counts().to_dict(),\n",
        "    'avg_length_ratio': 'mean'\n",
        "}).reset_index()"
      ]
    },
    {
      "cell_type": "code",
      "execution_count": 19,
      "metadata": {},
      "outputs": [
        {
          "data": {
            "text/html": [
              "<div>\n",
              "<style scoped>\n",
              "    .dataframe tbody tr th:only-of-type {\n",
              "        vertical-align: middle;\n",
              "    }\n",
              "\n",
              "    .dataframe tbody tr th {\n",
              "        vertical-align: top;\n",
              "    }\n",
              "\n",
              "    .dataframe thead th {\n",
              "        text-align: right;\n",
              "    }\n",
              "</style>\n",
              "<table border=\"1\" class=\"dataframe\">\n",
              "  <thead>\n",
              "    <tr style=\"text-align: right;\">\n",
              "      <th></th>\n",
              "      <th>year</th>\n",
              "      <th>label</th>\n",
              "      <th>avg_length_ratio</th>\n",
              "    </tr>\n",
              "  </thead>\n",
              "  <tbody>\n",
              "    <tr>\n",
              "      <th>0</th>\n",
              "      <td>2020</td>\n",
              "      <td>{'negative': 2, 'positive': 1}</td>\n",
              "      <td>1.099656</td>\n",
              "    </tr>\n",
              "    <tr>\n",
              "      <th>1</th>\n",
              "      <td>2021</td>\n",
              "      <td>{'positive': 2, 'negative': 1, 'neutral': 1}</td>\n",
              "      <td>1.005155</td>\n",
              "    </tr>\n",
              "    <tr>\n",
              "      <th>2</th>\n",
              "      <td>2022</td>\n",
              "      <td>{'neutral': 1, 'positive': 1, 'negative': 1}</td>\n",
              "      <td>0.893471</td>\n",
              "    </tr>\n",
              "  </tbody>\n",
              "</table>\n",
              "</div>"
            ],
            "text/plain": [
              "   year                                         label  avg_length_ratio\n",
              "0  2020                {'negative': 2, 'positive': 1}          1.099656\n",
              "1  2021  {'positive': 2, 'negative': 1, 'neutral': 1}          1.005155\n",
              "2  2022  {'neutral': 1, 'positive': 1, 'negative': 1}          0.893471"
            ]
          },
          "execution_count": 19,
          "metadata": {},
          "output_type": "execute_result"
        }
      ],
      "source": [
        "year_analysis"
      ]
    },
    {
      "cell_type": "markdown",
      "metadata": {},
      "source": [
        "**Year-based Insights**\n",
        "\n",
        "- 2020: A balanced mix of positive and negative sentiments with reviews slightly shorter than average.\n",
        "- 2021: Leans towards negative sentiments with longer reviews on average, indicating possibly more detailed criticism.\n",
        "- 2022: Positive and neutral sentiments dominate with shorter reviews, suggesting concise feedback."
      ]
    },
    {
      "cell_type": "markdown",
      "metadata": {},
      "source": [
        "## Language-based Analysis\n",
        "- Sentiment distribution by detected language.\n",
        "- Average review length ratio by language to understand if reviews in certain languages tend to be longer or shorter."
      ]
    },
    {
      "cell_type": "code",
      "execution_count": 18,
      "metadata": {},
      "outputs": [],
      "source": [
        "# Language-based Analysis: Sentiment Distribution and Average Length Ratio by Language\n",
        "language_analysis = df.groupby('detected_language').agg({\n",
        "    'label': lambda x: x.value_counts().to_dict(),\n",
        "    'avg_length_ratio': 'mean'\n",
        "}).reset_index()"
      ]
    },
    {
      "cell_type": "code",
      "execution_count": 20,
      "metadata": {},
      "outputs": [
        {
          "data": {
            "text/html": [
              "<div>\n",
              "<style scoped>\n",
              "    .dataframe tbody tr th:only-of-type {\n",
              "        vertical-align: middle;\n",
              "    }\n",
              "\n",
              "    .dataframe tbody tr th {\n",
              "        vertical-align: top;\n",
              "    }\n",
              "\n",
              "    .dataframe thead th {\n",
              "        text-align: right;\n",
              "    }\n",
              "</style>\n",
              "<table border=\"1\" class=\"dataframe\">\n",
              "  <thead>\n",
              "    <tr style=\"text-align: right;\">\n",
              "      <th></th>\n",
              "      <th>detected_language</th>\n",
              "      <th>label</th>\n",
              "      <th>avg_length_ratio</th>\n",
              "    </tr>\n",
              "  </thead>\n",
              "  <tbody>\n",
              "    <tr>\n",
              "      <th>0</th>\n",
              "      <td>af</td>\n",
              "      <td>{'negative': 1}</td>\n",
              "      <td>0.876289</td>\n",
              "    </tr>\n",
              "    <tr>\n",
              "      <th>1</th>\n",
              "      <td>en</td>\n",
              "      <td>{'positive': 3, 'negative': 2, 'neutral': 1}</td>\n",
              "      <td>1.099656</td>\n",
              "    </tr>\n",
              "    <tr>\n",
              "      <th>2</th>\n",
              "      <td>es</td>\n",
              "      <td>{'negative': 1}</td>\n",
              "      <td>1.030928</td>\n",
              "    </tr>\n",
              "    <tr>\n",
              "      <th>3</th>\n",
              "      <td>fr</td>\n",
              "      <td>{'neutral': 1}</td>\n",
              "      <td>0.773196</td>\n",
              "    </tr>\n",
              "    <tr>\n",
              "      <th>4</th>\n",
              "      <td>ro</td>\n",
              "      <td>{'positive': 1}</td>\n",
              "      <td>0.721649</td>\n",
              "    </tr>\n",
              "  </tbody>\n",
              "</table>\n",
              "</div>"
            ],
            "text/plain": [
              "  detected_language                                         label  \\\n",
              "0                af                               {'negative': 1}   \n",
              "1                en  {'positive': 3, 'negative': 2, 'neutral': 1}   \n",
              "2                es                               {'negative': 1}   \n",
              "3                fr                                {'neutral': 1}   \n",
              "4                ro                               {'positive': 1}   \n",
              "\n",
              "   avg_length_ratio  \n",
              "0          0.876289  \n",
              "1          1.099656  \n",
              "2          1.030928  \n",
              "3          0.773196  \n",
              "4          0.721649  "
            ]
          },
          "execution_count": 20,
          "metadata": {},
          "output_type": "execute_result"
        }
      ],
      "source": [
        "language_analysis"
      ]
    },
    {
      "cell_type": "markdown",
      "metadata": {},
      "source": [
        "**Language-based Insights**\n",
        "\n",
        "- English: A mix of positive, negative, and neutral sentiments with an average length ratio indicating typical review lengths.\n",
        "- French and Spanish: Limited data points, but French reviews show neutral sentiment with shorter length, and Spanish reviews show negative sentiment with an average length ratio."
      ]
    },
    {
      "cell_type": "markdown",
      "metadata": {},
      "source": [
        "From above slicing analysis we can tell more nuanced understanding and decision-making, such as identifying potential biases in review collection or highlighting the need for more balanced data across genres and years."
      ]
    },
    {
      "cell_type": "markdown",
      "metadata": {},
      "source": []
    }
  ],
  "metadata": {
    "colab": {
      "provenance": []
    },
    "kernelspec": {
      "display_name": "Python 3",
      "name": "python3"
    },
    "language_info": {
      "codemirror_mode": {
        "name": "ipython",
        "version": 3
      },
      "file_extension": ".py",
      "mimetype": "text/x-python",
      "name": "python",
      "nbconvert_exporter": "python",
      "pygments_lexer": "ipython3",
      "version": "3.11.4"
    }
  },
  "nbformat": 4,
  "nbformat_minor": 0
}
